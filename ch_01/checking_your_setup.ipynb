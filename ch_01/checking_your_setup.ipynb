{
 "cells": [
  {
   "cell_type": "markdown",
   "metadata": {},
   "source": [
    "# Checking your setup\n",
    "Run through this notebook to make sure your environment is properly setup. Be sure to launch Jupyter from inside the virtual environment."
   ]
  },
  {
   "cell_type": "code",
   "metadata": {
    "ExecuteTime": {
     "end_time": "2024-07-22T04:37:17.110319Z",
     "start_time": "2024-07-22T04:37:13.959087Z"
    }
   },
   "source": [
    "from check_environment import run_checks\n",
    "run_checks()"
   ],
   "outputs": [
    {
     "name": "stdout",
     "output_type": "stream",
     "text": [
      "Using Python in C:\\ProgramData\\anaconda3:\n",
      "\u001B[41m[FAIL]\u001B[0m Python version >= 3.7.1 and < 3.10.0 is required, but 3.10.9 | packaged by Anaconda, Inc. | (main, Mar  1 2023, 18:18:15) [MSC v.1916 64 bit (AMD64)] is installed.\n",
      "\n",
      "\u001B[41m[FAIL]\u001B[0m graphviz version 0.14.1 is required, but 0.20.1 installed.\n",
      "\u001B[41m[FAIL]\u001B[0m imblearn version 0.7.0 is required, but 0.10.1 installed.\n",
      "\u001B[41m[FAIL]\u001B[0m ipympl not installed.\n",
      "\u001B[42m[ OK ]\u001B[0m jupyterlab\n",
      "\u001B[41m[FAIL]\u001B[0m matplotlib version 3.3.2 is required, but 3.7.0 installed.\n",
      "\u001B[41m[FAIL]\u001B[0m numpy version >= 1.19.2 and <= 1.19.5 is required, but 1.23.5 installed.\n",
      "\u001B[41m[FAIL]\u001B[0m pandas version 1.2.0 is required, but 1.5.3 installed.\n",
      "\u001B[41m[FAIL]\u001B[0m requests version 2.24.0 is required, but 2.28.1 installed.\n",
      "\u001B[41m[FAIL]\u001B[0m sklearn version 0.23.2 is required, but 1.2.2 installed.\n",
      "\u001B[41m[FAIL]\u001B[0m scipy version >= 1.5.0 and <= 1.7.3 is required, but 1.10.0 installed.\n",
      "\u001B[41m[FAIL]\u001B[0m seaborn version >= 0.11.0 and <= 0.11.2 is required, but 0.12.2 installed.\n",
      "\u001B[41m[FAIL]\u001B[0m sqlalchemy version >= 1.3.19 and <= 1.3.20 is required, but 1.4.39 installed.\n",
      "\u001B[41m[FAIL]\u001B[0m statsmodels version >= 0.11.1 and <= 0.12.1 is required, but 0.13.5 installed.\n",
      "\u001B[42m[ OK ]\u001B[0m wheel\n",
      "\u001B[41m[FAIL]\u001B[0m login_attempt_simulator not installed.\n",
      "\u001B[41m[FAIL]\u001B[0m ml_utils not installed.\n",
      "\u001B[41m[FAIL]\u001B[0m stock_analysis not installed.\n",
      "\u001B[41m[FAIL]\u001B[0m visual_aids not installed.\n"
     ]
    }
   ],
   "execution_count": 1
  },
  {
   "metadata": {
    "ExecuteTime": {
     "end_time": "2024-07-22T04:47:04.867619Z",
     "start_time": "2024-07-22T04:47:04.860560Z"
    }
   },
   "cell_type": "code",
   "source": "print('test')",
   "outputs": [
    {
     "name": "stdout",
     "output_type": "stream",
     "text": [
      "test\n"
     ]
    }
   ],
   "execution_count": 5
  },
  {
   "metadata": {},
   "cell_type": "code",
   "outputs": [],
   "execution_count": null,
   "source": ""
  },
  {
   "cell_type": "markdown",
   "metadata": {},
   "source": [
    "*Note: Adapted from Andreas Mueller's [`check_env.ipynb` notebook](https://github.com/amueller/ml-workshop-1-of-4/blob/master/check_env.ipynb).*\n",
    "\n",
    "<hr>\n",
    "<div style=\"overflow: hidden; margin-bottom: 10px;\">\n",
    "    <div style=\"float: left;\">\n",
    "         <a href=\"./introduction_to_data_analysis.ipynb\">\n",
    "            <button>&#8592; Introduction to Data Analysis</button>\n",
    "        </a>\n",
    "    </div>\n",
    "    <div style=\"float: right;\">\n",
    "        <a href=\"./python_101.ipynb\">\n",
    "            <button>Python 101</button>\n",
    "        </a>\n",
    "        <a href=\"./exercises.ipynb\">\n",
    "            <button>Exercises &#8594;</button>\n",
    "        </a>\n",
    "    </div>\n",
    "</div>\n",
    "<hr>"
   ]
  }
 ],
 "metadata": {
  "kernelspec": {
   "display_name": "Python 3",
   "language": "python",
   "name": "python3"
  },
  "language_info": {
   "codemirror_mode": {
    "name": "ipython",
    "version": 3
   },
   "file_extension": ".py",
   "mimetype": "text/x-python",
   "name": "python",
   "nbconvert_exporter": "python",
   "pygments_lexer": "ipython3",
   "version": "3.7.3"
  }
 },
 "nbformat": 4,
 "nbformat_minor": 4
}
